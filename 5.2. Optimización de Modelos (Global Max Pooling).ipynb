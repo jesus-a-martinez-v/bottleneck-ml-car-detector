{
 "cells": [
  {
   "cell_type": "markdown",
   "metadata": {},
   "source": [
    "## 5.2 Optimización de Modelos (Global Max Pooling)\n",
    "\n",
    "En el notebook anterior decidimos optimizar los siguientes modelos:\n",
    "\n",
    " - Rank=1, Name=**SVC-linear-0.4**, Score=**0.9877151685937721 (+/- 0.003806562050586554)**\n",
    " - Rank=4, Name=**PassiveAggressiveClassifier**, Score=**0.9873060780235428 (+/- 0.005755384960731155)**\n",
    " - Rank=11, Name=**SGDClassifier**, Score=**0.986486033144723 (+/- 0.005575110872674419)**\n",
    " - Rank=14, Name=**KNeighborsClassifier-1**, Score=**0.9833439566419908 (+/- 0.007040876080775306)**\n",
    " \n",
    "Para optimizar cada modelo, usaremos GridSearchCV, el cual es un método para automáticamente encontrar los mejores parámetros de un modelo, con base en una métrica objetivo que, en nuestro caso, es la exactitud (_accuracy_).\n",
    "\n",
    "Las iniciales CV significan que usaremos _cross-validation_ o validación cruzada para estar verdaderamente seguros del desempeño del modelo. Como sudió en la fase de Evaluación de Modelos, haremos 10 validaciones cruzadas por modelo.\n",
    "\n",
    "Como podemos esperar, este proceso tomará algo de tiempo, dado que no sólo entrenaremos muchos modelos, sino que cada variación necesitará de otros 10 modelos, debido al proceso de validación cruzada.\n",
    "\n",
    "Empecemos definiendo las funciones auxiliares que usaremos para optimizar.\n",
    " "
   ]
  },
  {
   "cell_type": "markdown",
   "metadata": {},
   "source": [
    "### Datos\n",
    "\n",
    "Esta función nos retornará los datos relevantes necesatios para llevar a cabo la optimización de los modelos."
   ]
  },
  {
   "cell_type": "code",
   "execution_count": 1,
   "metadata": {},
   "outputs": [],
   "source": [
    "import numpy as np\n",
    "\n",
    "def load_dataset():\n",
    "    X = np.load('global_max_features.npy')\n",
    "    y = np.load('labels.npy')\n",
    "    \n",
    "    return X, y"
   ]
  },
  {
   "cell_type": "markdown",
   "metadata": {},
   "source": [
    "### Modelos\n",
    "\n",
    "Esta función devuelve un dict de dicts que contiene el modelo a ser optimizado, junto con la grilla de parámetros para hacerlo."
   ]
  },
  {
   "cell_type": "code",
   "execution_count": 2,
   "metadata": {},
   "outputs": [],
   "source": [
    "from sklearn.linear_model import SGDClassifier, PassiveAggressiveClassifier\n",
    "from sklearn.neighbors import KNeighborsClassifier\n",
    "from sklearn.svm import SVC\n",
    "\n",
    "def define_models(models=dict()):\n",
    "    models['SGDClassifier'] = {\n",
    "        'model': SGDClassifier(),\n",
    "        'parameters': {\n",
    "            'loss': ('hinge', 'log', 'modified_huber', 'squared_hinge', 'perceptron'),\n",
    "            'penalty': ('none','l2', 'l1'),\n",
    "            'alpha': (1e-3, 5e-3, 1e-4, 1e-2, 5e-3),\n",
    "            'fit_intercept': (True, False)\n",
    "        }\n",
    "    }\n",
    "    \n",
    "    models['KNeighborsClassifier-1'] = {\n",
    "        'model': KNeighborsClassifier(n_neighbors=1),\n",
    "        'parameters': {\n",
    "            'weights': ('uniform', 'distance'),\n",
    "            'algorithm': ('auto', 'ball_tree', 'kd_tree', 'brute')\n",
    "        }\n",
    "    }\n",
    "    \n",
    "    models['SVC-linear-0.4'] = {\n",
    "        'model': SVC(kernel='linear', C=0.4),\n",
    "        'parameters': {\n",
    "            'probability': (True, False),\n",
    "            'decision_function_shape': ('ovo', 'ovr'),\n",
    "            'shrinking': (True, False)\n",
    "        }\n",
    "    }\n",
    "    \n",
    "    models['PassiveAggressiveClassifier'] = {\n",
    "        'model': PassiveAggressiveClassifier(),\n",
    "        'parameters': {\n",
    "            'fit_intercept': (True, False),\n",
    "            'C': (1, 0.1, 0.01, 1.5, 2),\n",
    "            'loss': ('hinge', 'squared_hinge')\n",
    "        }\n",
    "    }\n",
    "    \n",
    "    print(f'Defined {len(models)} models.')\n",
    "\n",
    "    return models"
   ]
  },
  {
   "cell_type": "markdown",
   "metadata": {},
   "source": [
    "### Pipeline\n",
    "\n",
    "Como en el notebook pasado, este pipeline es usado para pre-procesar los _features_ que le pasaremos al modelo."
   ]
  },
  {
   "cell_type": "code",
   "execution_count": 3,
   "metadata": {},
   "outputs": [],
   "source": [
    "from sklearn.pipeline import Pipeline\n",
    "from sklearn.preprocessing import StandardScaler\n",
    "from sklearn.preprocessing import MinMaxScaler\n",
    "\n",
    "def make_pipeline(model):\n",
    "    steps = [\n",
    "        ('StandardScaler', StandardScaler()),\n",
    "        ('MinMaxScaler', MinMaxScaler()),\n",
    "        ('model', model)\n",
    "    ]\n",
    "    \n",
    "    pipeline = Pipeline(steps=steps)\n",
    "    \n",
    "    return pipeline"
   ]
  },
  {
   "cell_type": "markdown",
   "metadata": {},
   "source": [
    "### Búsqueda de Paráemtros\n",
    "\n",
    "Aquí definimos un par de funciones auxiliares que llevarán a cabo la búsqueda de parámetros que optimizarán cada modelo. Al final del proceso, se imprimirán los mejores parámetros, junto con el puntaje/exactitud del mejor clasificador."
   ]
  },
  {
   "cell_type": "code",
   "execution_count": 4,
   "metadata": {},
   "outputs": [],
   "source": [
    "from sklearn.model_selection import GridSearchCV\n",
    "\n",
    "def grid_search_model(X, y, model, folds, metric):\n",
    "    m = model['model'] \n",
    "    parameters = model['parameters']\n",
    "    \n",
    "    classifier = GridSearchCV(m, parameters, cv=folds, scoring=metric, n_jobs=-1)\n",
    "    pipeline = make_pipeline(classifier)\n",
    "    pipeline.fit(X, y)\n",
    "    \n",
    "    return pipeline.steps[-1][1]"
   ]
  },
  {
   "cell_type": "code",
   "execution_count": 5,
   "metadata": {},
   "outputs": [],
   "source": [
    "import warnings\n",
    "\n",
    "def grid_search_models(X, y, models, folds=10, metric='accuracy'):\n",
    "    with warnings.catch_warnings():\n",
    "        warnings.filterwarnings('ignore')\n",
    "        for model_name, model in models.items():\n",
    "            m = grid_search_model(X, y, model, folds, metric)\n",
    "\n",
    "            if m is not None:\n",
    "                print(f'Best parameters for {model_name}: \\n{m.best_params_}')\n",
    "                print(f'Best model {metric}: {m.best_score_ * 100}%')\n",
    "            else:\n",
    "                print(f'{model_name}: error')\n",
    "            \n",
    "            print('----\\n')"
   ]
  },
  {
   "cell_type": "code",
   "execution_count": 6,
   "metadata": {},
   "outputs": [
    {
     "name": "stdout",
     "output_type": "stream",
     "text": [
      "Defined 4 models.\n",
      "Best parameters for SGDClassifier: \n",
      "{'alpha': 0.001, 'fit_intercept': False, 'loss': 'modified_huber', 'penalty': 'l2'}\n",
      "Best model accuracy: 98.7849829351536%\n",
      "----\n",
      "\n",
      "Best parameters for KNeighborsClassifier-1: \n",
      "{'algorithm': 'auto', 'weights': 'uniform'}\n",
      "Best model accuracy: 98.30716723549489%\n",
      "----\n",
      "\n",
      "Best parameters for SVC-linear-0.4: \n",
      "{'decision_function_shape': 'ovo', 'probability': True, 'shrinking': True}\n",
      "Best model accuracy: 98.7849829351536%\n",
      "----\n",
      "\n",
      "Best parameters for PassiveAggressiveClassifier: \n",
      "{'C': 2, 'fit_intercept': False, 'loss': 'squared_hinge'}\n",
      "Best model accuracy: 98.75767918088737%\n",
      "----\n",
      "\n"
     ]
    }
   ],
   "source": [
    "X, y = load_dataset()\n",
    "models = define_models()\n",
    "grid_search_models(X, y, models)"
   ]
  },
  {
   "cell_type": "markdown",
   "metadata": {},
   "source": [
    "## Conclusión\n",
    "\n",
    "Estos son nuestros resultados:\n",
    "\n",
    " - **SVC-linear-0.4** pasa de 98.77151685937721% a 98.7849829351536%, con una mejora total de 0.013466075776378261%.\n",
    " - **PassiveAggressiveClassifier** pasa de 98.73060780235428% a 98.75767918088737%, con una mejora total de 0.027071378533079837%.\n",
    " - **SGDClassifier** pasa de 98.6486033144723% a 98.7849829351536%, con una mejora total de 0.1363796206812964%.\n",
    " - **KNeighborsClassifier-1** pasa de 98.33439566419908% a 98.30716723549489%, con una desmejora total de 0.027228428704191288%.\n",
    " \n",
    "Observamos que a excepción de KNeighborsClassifier-1, todos los modelos muestran, al menos, una pequeña mejora en su exactitud, lo que significa que la búsqueda de parámetros fue exitosa.\n",
    "\n",
    "Claramente, el modelo que más se benefició fue SGDClassifier, con una mejora total de  0.1363796206812964%. También alcanza el mejor puntaje, empatado con SVC-linear-0.4.\n",
    "\n",
    "El mejor puntaje lo alcanzó SVC-linear-1.0: 99.35836177474403%.\n",
    "\n",
    "Lamentablemente, KNeighborsClassifier-1 muestra un peor desempeño al final del procedimiento. Quizás jugar con otros parámetros o utilizar más vecinos de mejores resultados."
   ]
  },
  {
   "cell_type": "markdown",
   "metadata": {},
   "source": [
    "## Ideas\n",
    "\n",
    " - Probar otros modelos.\n",
    " - Probar más parámetros.\n",
    " - Probar reducción de dimensiones.\n",
    " - Usar más técnicas de ingeniería de _features_.\n",
    " - Usar _stacking_.\n",
    " \n",
    "### Una nota final\n",
    "\n",
    "No usamos la versión aplanada de los datos porque no cupo en la memoria de mi computador :)"
   ]
  }
 ],
 "metadata": {
  "kernelspec": {
   "display_name": "Python 3",
   "language": "python",
   "name": "python3"
  },
  "language_info": {
   "codemirror_mode": {
    "name": "ipython",
    "version": 3
   },
   "file_extension": ".py",
   "mimetype": "text/x-python",
   "name": "python",
   "nbconvert_exporter": "python",
   "pygments_lexer": "ipython3",
   "version": "3.6.7"
  }
 },
 "nbformat": 4,
 "nbformat_minor": 2
}
