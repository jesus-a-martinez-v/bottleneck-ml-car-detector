{
 "cells": [
  {
   "cell_type": "markdown",
   "metadata": {},
   "source": [
    "# 4.2 Evaluación de Modelos (Global Max Pooling)\n",
    "\n",
    "Ahora que nos hemos familiarizado con nuestros datos, el próximo paso lógico es explorar el espacio de los algoritmos que eventualmente producirán un buen modelo para la tarea que buscamos resolver.\n",
    "\n",
    "Nuestra meta en este notebook no es desarrollar una solución vanguardista, sino, más bien, revisar diversas arquitecturas con el fin de ver cuáles serán promovidas a la siguiente etapa del proceso, centrada en la optimización.\n",
    "\n",
    "Sin más preámbulos, pongámonos manos a la obra."
   ]
  },
  {
   "cell_type": "markdown",
   "metadata": {},
   "source": [
    "## Revisión\n",
    "\n",
    "Para evaluar un amplio espectro de posibles algoritmos, necesitamos primero implementar algunos métodos. Empecemos por darle forma a la data que usaremos."
   ]
  },
  {
   "cell_type": "markdown",
   "metadata": {},
   "source": [
    "### Datos\n",
    "\n",
    "Esta función nos dará la data relevante para el experimento en este notebook, la cual corresponde a los _features_ generados por el Global Max Pooling Extractor. Notemos que estamos cargando los _features_ guardados en disco en formato `.npy`."
   ]
  },
  {
   "cell_type": "code",
   "execution_count": 1,
   "metadata": {},
   "outputs": [],
   "source": [
    "import numpy as np\n",
    "\n",
    "def load_dataset():\n",
    "    X = np.load('global_max_features.npy')\n",
    "    y = np.load('labels.npy')\n",
    "    \n",
    "    return X, y"
   ]
  },
  {
   "cell_type": "code",
   "execution_count": 2,
   "metadata": {},
   "outputs": [],
   "source": [
    "X, y = load_dataset()"
   ]
  },
  {
   "cell_type": "markdown",
   "metadata": {},
   "source": [
    "### Modelos\n",
    "\n",
    "Esta función retorna un amplio rango de modelos, desde lineales como _logistic regression_, a otros basados en árboles como _extra trees_ e, incluso, _ensembles_, como AdaBoost. También estaremos usando un par de versiones diferentes del mismo modelo subyacente, como en el caso de KNeighborsClassifier, donde creamos diferentes instancias para distintos números de vecinos (empezando 1 hasta 25).\n",
    "\n",
    "Es importante mencionar que crearemos estos modelos con los valores por defectors para darles una oportunidad justa de resolver el problema. La optimización vendrá luego para aquellos modelos que sean prometedores."
   ]
  },
  {
   "cell_type": "code",
   "execution_count": 3,
   "metadata": {},
   "outputs": [
    {
     "name": "stderr",
     "output_type": "stream",
     "text": [
      "/usr/lib/python3/dist-packages/sklearn/ensemble/weight_boosting.py:29: DeprecationWarning: numpy.core.umath_tests is an internal NumPy module and should not be imported. It will be removed in a future NumPy release.\n",
      "  from numpy.core.umath_tests import inner1d\n"
     ]
    }
   ],
   "source": [
    "from sklearn.linear_model import LogisticRegression, SGDClassifier, RidgeClassifier, PassiveAggressiveClassifier\n",
    "from sklearn.tree import DecisionTreeClassifier, ExtraTreeClassifier\n",
    "from sklearn.ensemble import AdaBoostClassifier, BaggingClassifier, RandomForestClassifier, ExtraTreesClassifier, GradientBoostingClassifier\n",
    "from sklearn.neighbors import KNeighborsClassifier\n",
    "from sklearn.svm import SVC\n",
    "\n",
    "def define_models(models=dict()):\n",
    "    models['LogisticRegression'] = LogisticRegression()\n",
    "    models['SGDClassifier'] = SGDClassifier()\n",
    "    models['PassiveAggressiveClassifier'] = PassiveAggressiveClassifier()\n",
    "    models['DecisionTreeClassifier'] = DecisionTreeClassifier()\n",
    "    models['ExtraTreeClassifier'] = ExtraTreeClassifier()\n",
    "    \n",
    "    number_of_trees = 100\n",
    "    models[f'AdaBoostClassifier-{number_of_trees}'] = AdaBoostClassifier(n_estimators=number_of_trees)\n",
    "    models[f'BaggingClassifier-{number_of_trees}'] = BaggingClassifier(n_estimators=number_of_trees)\n",
    "    models[f'RandomForestClassifier-{number_of_trees}'] = RandomForestClassifier(n_estimators=number_of_trees)\n",
    "    models[f'ExtraTreesClassifier-{number_of_trees}'] = ExtraTreesClassifier(n_estimators=number_of_trees)\n",
    "    models[f'GradientBoostingClassifier-{number_of_trees}'] = GradientBoostingClassifier(n_estimators=number_of_trees)\n",
    "    \n",
    "    number_of_neighbors = range(1, 25)\n",
    "    for n in number_of_neighbors:\n",
    "        models[f'KNeighborsClassifier-{n}'] = KNeighborsClassifier(n_neighbors=n)\n",
    "        \n",
    "    kernels = {'linear', 'poly'}\n",
    "    cs = [0.1, 0.2, 0.3, 0.4, 0.5, 0.6, 0.7, 0.8, 0.9, 1.0]\n",
    "    for kernel in kernels:\n",
    "        for c in cs:\n",
    "            models[f'SCV-{kernel}-{c}'] = SVC(kernel=kernel, C=c)\n",
    "        \n",
    "    alphas = [0.1, 0.2, 0.3, 0.4, 0.5, 0.6, 0.7, 0.8, 0.9, 1.0]\n",
    "    for alpha in alphas:\n",
    "        models[f'RidgeClassifier-{alpha}'] = RidgeClassifier(alpha=alpha)\n",
    "    \n",
    "    print(f'Defined {len(models)} models.')\n",
    "\n",
    "    return models"
   ]
  },
  {
   "cell_type": "markdown",
   "metadata": {},
   "source": [
    "### Pipeline\n",
    "\n",
    "Un _pipeline_ es simplemente un proceso donde vamos transformando los datos en cada paso del mismo. En este caso, usaremos un _pipeline_ para pre-procesar la data que le pasaremos a los modelos. En particular, estamos escalando y estandarizando cada _feature_."
   ]
  },
  {
   "cell_type": "code",
   "execution_count": 4,
   "metadata": {},
   "outputs": [],
   "source": [
    "from sklearn.pipeline import Pipeline\n",
    "from sklearn.preprocessing import StandardScaler\n",
    "from sklearn.preprocessing import MinMaxScaler\n",
    "\n",
    "def make_pipeline(model):\n",
    "    steps = [\n",
    "        ('StandardScaler', StandardScaler()),\n",
    "        ('MinMaxScaler', MinMaxScaler()),\n",
    "        ('model', model)\n",
    "    ]\n",
    "    \n",
    "    pipeline = Pipeline(steps=steps)\n",
    "    \n",
    "    return pipeline"
   ]
  },
  {
   "cell_type": "markdown",
   "metadata": {},
   "source": [
    "### Evaluando un Modelo\n",
    "\n",
    "Para estar realmente seguros de que nuestro modelo está aprendiendo, usaremos K-Fold Cross-Validation, una técnica la cual, básicamente, entrena K modelos, donde K-1 pedazos de los datos serán utilizados para entrenar, mientras que el pedazo restante para probar. Lo bueno es que mediante este procedimiento utilizados todos los datos para entrenar **y** todos los datos para probar, eventualmente.\n",
    "\n",
    "Puesto que sólo estamos interesados en determinar rápidamente que modelos tienen potencial, apagaremos los _warnings_ en la función `robust_evaluate_model`.\n",
    "\n",
    "`evaluate_models` evalua un modelo y luego produce una mpetrica consolidada, la cual es el promedio de la exactitud (_accuracy_). También imprime esta información."
   ]
  },
  {
   "cell_type": "code",
   "execution_count": 5,
   "metadata": {},
   "outputs": [],
   "source": [
    "from sklearn.model_selection import cross_val_score\n",
    "\n",
    "def evaluate_model(X, y, model, folds, metric):\n",
    "    pipeline = make_pipeline(model)\n",
    "    \n",
    "    return cross_val_score(pipeline, X, y, scoring=metric, cv=folds, n_jobs=-1)"
   ]
  },
  {
   "cell_type": "code",
   "execution_count": 6,
   "metadata": {},
   "outputs": [],
   "source": [
    "import warnings\n",
    "\n",
    "def robust_evaluate_model(X, y, model, folds, metric):\n",
    "    try:\n",
    "        with warnings.catch_warnings():\n",
    "            warnings.filterwarnings('ignore')\n",
    "            return evaluate_model(X, y, model, folds, metric)\n",
    "    except:\n",
    "        return None"
   ]
  },
  {
   "cell_type": "code",
   "execution_count": 7,
   "metadata": {},
   "outputs": [],
   "source": [
    "def evaluate_models(X, y, models, folds=10, metric='accuracy'):\n",
    "    results = dict()\n",
    "    \n",
    "    for model_name, model in models.items():\n",
    "        scores = robust_evaluate_model(X, y, model, folds, metric)\n",
    "        \n",
    "        if scores is not None:\n",
    "            results[model_name] = scores\n",
    "            mean_score, std_score = np.mean(scores), np.std(scores)\n",
    "            print(f'{model_name}: {mean_score * 100}% (+/- {std_score})')\n",
    "        else:\n",
    "            print(f'{model_name}: error')\n",
    "    return results"
   ]
  },
  {
   "cell_type": "markdown",
   "metadata": {},
   "source": [
    "### Resumen\n",
    "\n",
    "Tener todos los datos necesarios a disposición es importante para tomar una decisión. Esta es la misión de la función `summarize_results`. Devuelve los N mejores modelos en términos de desempeño. También produce, opcionalmente, un _box-plot_ para una referencia visualmente más atractiva."
   ]
  },
  {
   "cell_type": "code",
   "execution_count": null,
   "metadata": {},
   "outputs": [],
   "source": [
    "import matplotlib.pyplot as plt\n",
    "%matplotlib inline\n",
    "\n",
    "def summarize_results(results, maximize=True, top_n=10, plot=True):\n",
    "    if len(results) == 0:\n",
    "        print('No results')\n",
    "        return\n",
    "    \n",
    "    n = min(top_n, len(results))\n",
    "    mean_scores = sorted([(key, np.mean(value)) for key, value in results.items()], key=lambda p: p[1])\n",
    "    \n",
    "    if maximize:\n",
    "        mean_scores = list(reversed(mean_scores))\n",
    "        \n",
    "    names = [mean_score[0] for mean_score in mean_scores[:n]]\n",
    "    scores = [results[mean_score[0]] for mean_score in mean_scores[:n]]\n",
    "    \n",
    "    print('--------')\n",
    "    for index in range(n):\n",
    "        name = names[index]\n",
    "        mean_score, std_score = np.mean(results[name]), np.std(results[name])\n",
    "        print(f'Rank={index + 1}, Name={name}, Score={mean_score} (+/- {std_score})')\n",
    "        \n",
    "    if plot:\n",
    "        plt.boxplot(scores, labels=names)\n",
    "        _, labels = plt.xticks()\n",
    "        plt.show()"
   ]
  },
  {
   "cell_type": "markdown",
   "metadata": {},
   "source": [
    "## ¡Manos a la Obra!\n",
    "\n",
    "Estamos listos. ¡Hora de poner a prueba a los candidatos!"
   ]
  },
  {
   "cell_type": "code",
   "execution_count": 9,
   "metadata": {},
   "outputs": [
    {
     "name": "stdout",
     "output_type": "stream",
     "text": [
      "Defined 64 models.\n",
      "LogisticRegression: 98.58050231476302% (+/- 0.006797389553190152)\n",
      "SGDClassifier: 98.64860331447231% (+/- 0.005575110872674419)\n",
      "PassiveAggressiveClassifier: 98.73060780235427% (+/- 0.005755384960731155)\n",
      "DecisionTreeClassifier: 92.01356428779104% (+/- 0.020321195185309695)\n",
      "ExtraTreeClassifier: 88.06905523375006% (+/- 0.024792907377874304)\n",
      "AdaBoostClassifier-100: 98.07544785632814% (+/- 0.007702413877307419)\n",
      "BaggingClassifier-100: 96.19133883508896% (+/- 0.01416843947043467)\n",
      "RandomForestClassifier-100: 96.96984098584306% (+/- 0.013869528415660646)\n",
      "ExtraTreesClassifier-100: 97.06539485160916% (+/- 0.013369947666487485)\n",
      "GradientBoostingClassifier-100: 97.95253431142321% (+/- 0.008585491307616006)\n",
      "KNeighborsClassifier-1: 98.33439566419908% (+/- 0.007040876080775306)\n",
      "KNeighborsClassifier-2: 97.82932256838055% (+/- 0.007286173768950057)\n",
      "KNeighborsClassifier-3: 98.29354251932696% (+/- 0.006639948139257597)\n",
      "KNeighborsClassifier-4: 97.96599050238932% (+/- 0.008244057417610723)\n",
      "KNeighborsClassifier-5: 98.29367298101224% (+/- 0.005891597824546512)\n",
      "KNeighborsClassifier-6: 97.81594092694891% (+/- 0.009820499723737192)\n",
      "KNeighborsClassifier-7: 98.10262116163082% (+/- 0.00720466740202882)\n",
      "KNeighborsClassifier-8: 97.80239154906478% (+/- 0.010105364944583917)\n",
      "KNeighborsClassifier-9: 98.04810681457295% (+/- 0.009293601855196445)\n",
      "KNeighborsClassifier-10: 97.73414145028664% (+/- 0.010498697817056934)\n",
      "KNeighborsClassifier-11: 97.85707363257517% (+/- 0.010078208122542518)\n",
      "KNeighborsClassifier-12: 97.611358367067% (+/- 0.01143051325532907)\n",
      "KNeighborsClassifier-13: 97.80235427429756% (+/- 0.009730136372547972)\n",
      "KNeighborsClassifier-14: 97.5292979670342% (+/- 0.010502886528933822)\n",
      "KNeighborsClassifier-15: 97.66583543935768% (+/- 0.010087771714957661)\n",
      "KNeighborsClassifier-16: 97.36543809033911% (+/- 0.011529405201672996)\n",
      "KNeighborsClassifier-17: 97.46102923087244% (+/- 0.01125257205258984)\n",
      "KNeighborsClassifier-18: 97.31079328159595% (+/- 0.011334123931112215)\n",
      "KNeighborsClassifier-19: 97.48835163524404% (+/- 0.010866529516683945)\n",
      "KNeighborsClassifier-20: 97.33809704858395% (+/- 0.01055565708564524)\n",
      "KNeighborsClassifier-21: 97.42004562431508% (+/- 0.010434948734281487)\n",
      "KNeighborsClassifier-22: 97.31081191897954% (+/- 0.010866355457742217)\n",
      "KNeighborsClassifier-23: 97.32449175854896% (+/- 0.01148500069662145)\n",
      "KNeighborsClassifier-24: 97.269884224573% (+/- 0.011251997577928236)\n",
      "SCV-poly-0.1: 53.24234562655155% (+/- 0.00036342898038604915)\n",
      "SCV-poly-0.2: 53.24234562655155% (+/- 0.00036342898038604915)\n",
      "SCV-poly-0.3: 53.24234562655155% (+/- 0.00036342898038604915)\n",
      "SCV-poly-0.4: 53.24234562655155% (+/- 0.00036342898038604915)\n",
      "SCV-poly-0.5: 53.24234562655155% (+/- 0.00036342898038604915)\n",
      "SCV-poly-0.6: 53.24234562655155% (+/- 0.00036342898038604915)\n",
      "SCV-poly-0.7: 53.24234562655155% (+/- 0.00036342898038604915)\n",
      "SCV-poly-0.8: 53.24234562655155% (+/- 0.00036342898038604915)\n",
      "SCV-poly-0.9: 53.24234562655155% (+/- 0.00036342898038604915)\n",
      "SCV-poly-1.0: 53.24234562655155% (+/- 0.00036342898038604915)\n",
      "SCV-linear-0.1: 98.58052095214666% (+/- 0.006796842949353663)\n",
      "SCV-linear-0.2: 98.70328539798268% (+/- 0.004811505815789461)\n",
      "SCV-linear-0.3: 98.74425036715644% (+/- 0.0045544623041720534)\n",
      "SCV-linear-0.4: 98.7715168593772% (+/- 0.003806562050586554)\n",
      "SCV-linear-0.5: 98.73058916497065% (+/- 0.004181527383954391)\n",
      "SCV-linear-0.6: 98.73058916497065% (+/- 0.003952459998004473)\n",
      "SCV-linear-0.7: 98.71692796278487% (+/- 0.004006380623478262)\n",
      "SCV-linear-0.8: 98.71692796278488% (+/- 0.004006761650617397)\n",
      "SCV-linear-0.9: 98.74423172977285% (+/- 0.003796569851107643)\n",
      "SCV-linear-1.0: 98.71694660016847% (+/- 0.004052218450882384)\n",
      "RidgeClassifier-0.1: 98.22562789345379% (+/- 0.00842935628556381)\n",
      "RidgeClassifier-0.2: 98.22562789345379% (+/- 0.00842935628556381)\n",
      "RidgeClassifier-0.3: 98.22562789345379% (+/- 0.00842935628556381)\n",
      "RidgeClassifier-0.4: 98.22562789345379% (+/- 0.00842935628556381)\n",
      "RidgeClassifier-0.5: 98.2392890956396% (+/- 0.008527057651780643)\n",
      "RidgeClassifier-0.6: 98.22562789345379% (+/- 0.008604655862470709)\n",
      "RidgeClassifier-0.7: 98.22562789345379% (+/- 0.008604655862470709)\n",
      "RidgeClassifier-0.8: 98.23927045825597% (+/- 0.00872187446755199)\n",
      "RidgeClassifier-0.9: 98.23927045825597% (+/- 0.00872187446755199)\n",
      "RidgeClassifier-1.0: 98.23927045825597% (+/- 0.00872187446755199)\n",
      "--------\n",
      "Rank=1, Name=SCV-linear-0.4, Score=0.9877151685937721 (+/- 0.003806562050586554)\n",
      "Rank=2, Name=SCV-linear-0.3, Score=0.9874425036715644 (+/- 0.0045544623041720534)\n",
      "Rank=3, Name=SCV-linear-0.9, Score=0.9874423172977285 (+/- 0.003796569851107643)\n",
      "Rank=4, Name=PassiveAggressiveClassifier, Score=0.9873060780235428 (+/- 0.005755384960731155)\n",
      "Rank=5, Name=SCV-linear-0.6, Score=0.9873058916497065 (+/- 0.003952459998004473)\n"
     ]
    },
    {
     "data": {
      "image/png": "[encoded data removed]",
      "text/plain": [
       "<matplotlib.figure.Figure at 0x7fe8b2a88fd0>"
      ]
     },
     "metadata": {
      "needs_background": "light"
     },
     "output_type": "display_data"
    }
   ],
   "source": [
    "X, y = load_dataset()\n",
    "models = define_models()\n",
    "results = evaluate_models(X, y, models)\n",
    "summarize_results(results, top_n=5)"
   ]
  },
  {
   "cell_type": "markdown",
   "metadata": {},
   "source": [
    "Sólo para tener un ranking de todos los modelos, llamemos nuevamente a la función `summarize_results` pero desactivando la opción de graficar."
   ]
  },
  {
   "cell_type": "code",
   "execution_count": 10,
   "metadata": {},
   "outputs": [
    {
     "name": "stdout",
     "output_type": "stream",
     "text": [
      "--------\n",
      "Rank=1, Name=SCV-linear-0.4, Score=0.9877151685937721 (+/- 0.003806562050586554)\n",
      "Rank=2, Name=SCV-linear-0.3, Score=0.9874425036715644 (+/- 0.0045544623041720534)\n",
      "Rank=3, Name=SCV-linear-0.9, Score=0.9874423172977285 (+/- 0.003796569851107643)\n",
      "Rank=4, Name=PassiveAggressiveClassifier, Score=0.9873060780235428 (+/- 0.005755384960731155)\n",
      "Rank=5, Name=SCV-linear-0.6, Score=0.9873058916497065 (+/- 0.003952459998004473)\n",
      "Rank=6, Name=SCV-linear-0.5, Score=0.9873058916497065 (+/- 0.004181527383954391)\n",
      "Rank=7, Name=SCV-linear-1.0, Score=0.9871694660016848 (+/- 0.004052218450882384)\n",
      "Rank=8, Name=SCV-linear-0.8, Score=0.9871692796278488 (+/- 0.004006761650617397)\n",
      "Rank=9, Name=SCV-linear-0.7, Score=0.9871692796278486 (+/- 0.004006380623478262)\n",
      "Rank=10, Name=SCV-linear-0.2, Score=0.9870328539798269 (+/- 0.004811505815789461)\n",
      "Rank=11, Name=SGDClassifier, Score=0.986486033144723 (+/- 0.005575110872674419)\n",
      "Rank=12, Name=SCV-linear-0.1, Score=0.9858052095214666 (+/- 0.006796842949353663)\n",
      "Rank=13, Name=LogisticRegression, Score=0.9858050231476303 (+/- 0.006797389553190152)\n",
      "Rank=14, Name=KNeighborsClassifier-1, Score=0.9833439566419908 (+/- 0.007040876080775306)\n",
      "Rank=15, Name=KNeighborsClassifier-5, Score=0.9829367298101224 (+/- 0.005891597824546512)\n",
      "Rank=16, Name=KNeighborsClassifier-3, Score=0.9829354251932696 (+/- 0.006639948139257597)\n",
      "Rank=17, Name=RidgeClassifier-0.5, Score=0.982392890956396 (+/- 0.008527057651780643)\n",
      "Rank=18, Name=RidgeClassifier-1.0, Score=0.9823927045825597 (+/- 0.00872187446755199)\n",
      "Rank=19, Name=RidgeClassifier-0.9, Score=0.9823927045825597 (+/- 0.00872187446755199)\n",
      "Rank=20, Name=RidgeClassifier-0.8, Score=0.9823927045825597 (+/- 0.00872187446755199)\n",
      "Rank=21, Name=RidgeClassifier-0.7, Score=0.9822562789345379 (+/- 0.008604655862470709)\n",
      "Rank=22, Name=RidgeClassifier-0.6, Score=0.9822562789345379 (+/- 0.008604655862470709)\n",
      "Rank=23, Name=RidgeClassifier-0.4, Score=0.9822562789345379 (+/- 0.00842935628556381)\n",
      "Rank=24, Name=RidgeClassifier-0.3, Score=0.9822562789345379 (+/- 0.00842935628556381)\n",
      "Rank=25, Name=RidgeClassifier-0.2, Score=0.9822562789345379 (+/- 0.00842935628556381)\n",
      "Rank=26, Name=RidgeClassifier-0.1, Score=0.9822562789345379 (+/- 0.00842935628556381)\n",
      "Rank=27, Name=KNeighborsClassifier-7, Score=0.9810262116163082 (+/- 0.00720466740202882)\n",
      "Rank=28, Name=AdaBoostClassifier-100, Score=0.9807544785632814 (+/- 0.007702413877307419)\n",
      "Rank=29, Name=KNeighborsClassifier-9, Score=0.9804810681457294 (+/- 0.009293601855196445)\n",
      "Rank=30, Name=KNeighborsClassifier-4, Score=0.9796599050238932 (+/- 0.008244057417610723)\n",
      "Rank=31, Name=GradientBoostingClassifier-100, Score=0.9795253431142321 (+/- 0.008585491307616006)\n",
      "Rank=32, Name=KNeighborsClassifier-11, Score=0.9785707363257516 (+/- 0.010078208122542518)\n",
      "Rank=33, Name=KNeighborsClassifier-2, Score=0.9782932256838055 (+/- 0.007286173768950057)\n",
      "Rank=34, Name=KNeighborsClassifier-6, Score=0.9781594092694892 (+/- 0.009820499723737192)\n",
      "Rank=35, Name=KNeighborsClassifier-8, Score=0.9780239154906478 (+/- 0.010105364944583917)\n",
      "Rank=36, Name=KNeighborsClassifier-13, Score=0.9780235427429755 (+/- 0.009730136372547972)\n",
      "Rank=37, Name=KNeighborsClassifier-10, Score=0.9773414145028665 (+/- 0.010498697817056934)\n",
      "Rank=38, Name=KNeighborsClassifier-15, Score=0.9766583543935768 (+/- 0.010087771714957661)\n",
      "Rank=39, Name=KNeighborsClassifier-12, Score=0.97611358367067 (+/- 0.01143051325532907)\n",
      "Rank=40, Name=KNeighborsClassifier-14, Score=0.975292979670342 (+/- 0.010502886528933822)\n",
      "Rank=41, Name=KNeighborsClassifier-19, Score=0.9748835163524404 (+/- 0.010866529516683945)\n",
      "Rank=42, Name=KNeighborsClassifier-17, Score=0.9746102923087244 (+/- 0.01125257205258984)\n",
      "Rank=43, Name=KNeighborsClassifier-21, Score=0.9742004562431508 (+/- 0.010434948734281487)\n",
      "Rank=44, Name=KNeighborsClassifier-16, Score=0.9736543809033911 (+/- 0.011529405201672996)\n",
      "Rank=45, Name=KNeighborsClassifier-20, Score=0.9733809704858395 (+/- 0.01055565708564524)\n",
      "Rank=46, Name=KNeighborsClassifier-23, Score=0.9732449175854896 (+/- 0.01148500069662145)\n",
      "Rank=47, Name=KNeighborsClassifier-22, Score=0.9731081191897955 (+/- 0.010866355457742217)\n",
      "Rank=48, Name=KNeighborsClassifier-18, Score=0.9731079328159595 (+/- 0.011334123931112215)\n",
      "Rank=49, Name=KNeighborsClassifier-24, Score=0.9726988422457301 (+/- 0.011251997577928236)\n",
      "Rank=50, Name=ExtraTreesClassifier-100, Score=0.9706539485160915 (+/- 0.013369947666487485)\n",
      "Rank=51, Name=RandomForestClassifier-100, Score=0.9696984098584306 (+/- 0.013869528415660646)\n",
      "Rank=52, Name=BaggingClassifier-100, Score=0.9619133883508896 (+/- 0.01416843947043467)\n",
      "Rank=53, Name=DecisionTreeClassifier, Score=0.9201356428779104 (+/- 0.020321195185309695)\n",
      "Rank=54, Name=ExtraTreeClassifier, Score=0.8806905523375006 (+/- 0.024792907377874304)\n",
      "Rank=55, Name=SCV-poly-1.0, Score=0.5324234562655155 (+/- 0.00036342898038604915)\n",
      "Rank=56, Name=SCV-poly-0.9, Score=0.5324234562655155 (+/- 0.00036342898038604915)\n",
      "Rank=57, Name=SCV-poly-0.8, Score=0.5324234562655155 (+/- 0.00036342898038604915)\n",
      "Rank=58, Name=SCV-poly-0.7, Score=0.5324234562655155 (+/- 0.00036342898038604915)\n",
      "Rank=59, Name=SCV-poly-0.6, Score=0.5324234562655155 (+/- 0.00036342898038604915)\n",
      "Rank=60, Name=SCV-poly-0.5, Score=0.5324234562655155 (+/- 0.00036342898038604915)\n",
      "Rank=61, Name=SCV-poly-0.4, Score=0.5324234562655155 (+/- 0.00036342898038604915)\n",
      "Rank=62, Name=SCV-poly-0.3, Score=0.5324234562655155 (+/- 0.00036342898038604915)\n",
      "Rank=63, Name=SCV-poly-0.2, Score=0.5324234562655155 (+/- 0.00036342898038604915)\n",
      "Rank=64, Name=SCV-poly-0.1, Score=0.5324234562655155 (+/- 0.00036342898038604915)\n"
     ]
    }
   ],
   "source": [
    "summarize_results(results, top_n=len(results), plot=False)"
   ]
  },
  {
   "cell_type": "markdown",
   "metadata": {},
   "source": [
    "## Conclusión\n",
    "\n",
    "Entrenamos cada modelo usando el _framework_ descrito en las celdas anteriores para determinar el poder de aprendizaje de cada uno.\n",
    "\n",
    "Es notable que SVC se desempeña terribelemente mal cuando utiliza un kernel polinómico, en vez de uno lineal.\n",
    "\n",
    "Debemos destacar que los modelos que mejor lo hacen son variaciones de SVC con kernel lineal y diferentes valores de penalización (C).\n",
    "\n",
    "No obstante, en pos de la diversidad, promoveremos los siguientes cinco modelos a la fase de optimización:\n",
    "\n",
    " - Rank=1, Name=**SVC-linear-0.4**, Score=**0.9877151685937721 (+/- 0.003806562050586554)**\n",
    " - Rank=4, Name=**PassiveAggressiveClassifier**, Score=**0.9873060780235428 (+/- 0.005755384960731155)**\n",
    " - Rank=11, Name=**SGDClassifier**, Score=**0.986486033144723 (+/- 0.005575110872674419)**\n",
    " - Rank=14, Name=**KNeighborsClassifier-1**, Score=**0.9833439566419908 (+/- 0.007040876080775306)**\n",
    " - Rank=28, Name=**AdaBoostClassifier-100**, Score=**0.9807544785632814 (+/- 0.007702413877307419)**\n",
    "\n",
    "Debemos recordar que estos modelos ya están rindiendo bastante bien con nuestra selección inicial de parámetros, pero, de todas formas, intentaremos exprimirles la mayor cantidad de desempeño que podamos."
   ]
  }
 ],
 "metadata": {
  "kernelspec": {
   "display_name": "Python 3",
   "language": "python",
   "name": "python3"
  },
  "language_info": {
   "codemirror_mode": {
    "name": "ipython",
    "version": 3
   },
   "file_extension": ".py",
   "mimetype": "text/x-python",
   "name": "python",
   "nbconvert_exporter": "python",
   "pygments_lexer": "ipython3",
   "version": "3.6.7"
  }
 },
 "nbformat": 4,
 "nbformat_minor": 2
}
